{
 "cells": [
  {
   "cell_type": "code",
   "execution_count": 10,
   "id": "31fef56a",
   "metadata": {},
   "outputs": [],
   "source": [
    "import pandas as pd\n",
    "import numpy as np"
   ]
  },
  {
   "cell_type": "code",
   "execution_count": 11,
   "id": "04bba3dc",
   "metadata": {},
   "outputs": [],
   "source": [
    "#read the data\n",
    "df = pd.read_csv('HDR25_Composite_indices_complete_time_series.csv',encoding='latin1')\n",
    "\n",
    "#read the wb regions\n",
    "wb_regions = pd.read_csv('world-regions-according-to-the-world-bank.csv')"
   ]
  },
  {
   "cell_type": "code",
   "execution_count": 12,
   "id": "b79d8181",
   "metadata": {},
   "outputs": [],
   "source": [
    "#reshape the data\n",
    "#define id columns; melt everything else\n",
    "id_vars = ['iso3', 'country', 'hdicode']\n",
    "drop_vars = ['hdi_rank_2023','gii_rank_2023', 'rankdiff_hdi_phdi_2023','gdi_group_2023','region'] #ranks + region which isn't well populated\n",
    "val_cols = list(df.columns)\n",
    "val_cols = [x for x in val_cols if x not in (id_vars + drop_vars)]\n",
    "\n",
    "#melt apart\n",
    "df_long = df.melt(\n",
    "    id_vars=(id_vars + drop_vars),\n",
    "    var_name='variable_year',\n",
    "    value_name='value'\n",
    ")\n",
    "\n",
    "#split years, make year numeric, drop bad cols \n",
    "df_long['year'] = df_long['variable_year'].str[-4:]\n",
    "df_long['variable'] = df_long['variable_year'].str[:-5]\n",
    "df_long = df_long[id_vars + ['variable', 'year', 'value']]\n",
    "df_long.year = pd.to_numeric(df_long.year, errors='coerce')\n",
    "\n",
    "#drop aggregates (any iso3 code with length less than 3)\n",
    "df_long = df_long[df_long['iso3'].str.len() == 3]\n",
    "\n",
    "#pivot back\n",
    "df_mid = (\n",
    "    df_long\n",
    "    .pivot_table(\n",
    "        index=id_vars + ['year'],\n",
    "        columns='variable',\n",
    "        values='value',\n",
    "        aggfunc='first'\n",
    "    )\n",
    "    .reset_index()\n",
    ")\n",
    "df_mid.columns.name = None"
   ]
  },
  {
   "cell_type": "code",
   "execution_count": 13,
   "id": "22b9d368",
   "metadata": {},
   "outputs": [],
   "source": [
    "#imputing missing data\n",
    "id_vars= id_vars + ['year']\n",
    "val_cols = [c for c in df_mid.columns if c not in id_vars]\n",
    "df_panel = df_mid.sort_values([\"iso3\", \"year\"]).copy()\n",
    "\n",
    "#impute JUST in the middle\n",
    "for c in [x for x in val_cols if x != \"pop_total\"]:\n",
    "    df_panel[c] = (\n",
    "        df_panel.groupby(\"iso3\", group_keys=False)[c]\n",
    "                .apply(lambda s: s.interpolate(method=\"linear\", limit_area=\"inside\"))\n",
    "    )"
   ]
  },
  {
   "cell_type": "code",
   "execution_count": 14,
   "id": "9bc57fc5",
   "metadata": {},
   "outputs": [],
   "source": [
    "\n",
    "df_panel[\"education_index\"] = (np.minimum(df_panel[\"mys\"], 15) / 15 + np.minimum(df_panel[\"eys\"], 18) / 18) / 2\n",
    "df_panel[\"health_index\"] = (np.maximum(np.minimum(df_panel[\"le\"], 85), 20) - 20) / (85 - 20)\n",
    "df_panel[\"income_index\"] = (np.log(np.maximum(np.minimum(df_panel[\"gnipc\"], 75000), 100)) - np.log(100)) / (np.log(75000) - np.log(100))\n",
    "df_panel[\"hdi_calc\"] = np.round((df_panel[\"education_index\"] * df_panel[\"health_index\"] * df_panel[\"income_index\"]) ** (1/3),3)"
   ]
  },
  {
   "cell_type": "code",
   "execution_count": 15,
   "id": "85e7b31d",
   "metadata": {},
   "outputs": [],
   "source": [
    "df_panel = df_panel[['iso3', 'country', 'year', 'mys', 'eys', 'le', 'gnipc', 'education_index', 'health_index', 'income_index', 'hdi_calc', 'pop_total']].copy()\n",
    "df_panel = df_panel.dropna(subset=[\"education_index\", \"health_index\", \"income_index\"])"
   ]
  },
  {
   "cell_type": "code",
   "execution_count": 16,
   "id": "0207c42b",
   "metadata": {},
   "outputs": [],
   "source": [
    "#map region from wb_regions onto the df_long\n",
    "region_map = dict(zip(wb_regions['code'], wb_regions['region']))\n",
    "df_panel['region'] = df_panel['iso3'].map(region_map)\n",
    "df_long['region'] = df_long['iso3'].map(region_map)"
   ]
  },
  {
   "cell_type": "code",
   "execution_count": 18,
   "id": "898e2ef0",
   "metadata": {},
   "outputs": [],
   "source": [
    "#output the data\n",
    "df_long.to_csv('HDR25_long_format.csv', index=False)\n",
    "df_panel.to_csv('HDR25_panel_format.csv', index=False)"
   ]
  },
  {
   "cell_type": "code",
   "execution_count": null,
   "id": "d507fa22",
   "metadata": {},
   "outputs": [],
   "source": []
  }
 ],
 "metadata": {
  "kernelspec": {
   "display_name": "Python 3",
   "language": "python",
   "name": "python3"
  },
  "language_info": {
   "codemirror_mode": {
    "name": "ipython",
    "version": 3
   },
   "file_extension": ".py",
   "mimetype": "text/x-python",
   "name": "python",
   "nbconvert_exporter": "python",
   "pygments_lexer": "ipython3",
   "version": "3.13.7"
  }
 },
 "nbformat": 4,
 "nbformat_minor": 5
}
